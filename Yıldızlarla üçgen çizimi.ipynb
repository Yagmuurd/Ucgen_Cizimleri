{
  "cells": [
    {
      "cell_type": "markdown",
      "metadata": {
        "id": "tCLkBixr_PTK"
      },
      "source": [
        "**Yıldız Çizimleri**"
      ]
    },
    {
      "cell_type": "code",
      "execution_count": null,
      "metadata": {
        "colab": {
          "base_uri": "https://localhost:8080/"
        },
        "id": "kNql--0X_Skj",
        "outputId": "c9b7ec7a-cb67-4564-a18e-b104e2e689af"
      },
      "outputs": [
        {
          "name": "stdout",
          "output_type": "stream",
          "text": [
            "*\n",
            "**\n",
            "***\n",
            "****\n",
            "*****\n"
          ]
        }
      ],
      "source": [
        "#iç içe döngü ile\n",
        "rows = 5\n",
        "for i in range(0, rows):\n",
        "  for j in range(0, i+1):\n",
        "    print(\"*\", end=\"\")\n",
        "  print()"
      ]
    },
    {
      "cell_type": "code",
      "execution_count": null,
      "metadata": {
        "colab": {
          "base_uri": "https://localhost:8080/"
        },
        "id": "D8AG7DCeAGM6",
        "outputId": "c2cd9c09-2df2-4177-8308-9d364bd0b60b"
      },
      "outputs": [
        {
          "name": "stdout",
          "output_type": "stream",
          "text": [
            "*\n",
            "**\n",
            "***\n",
            "****\n",
            "*****\n"
          ]
        }
      ],
      "source": [
        "#tek döngü ile\n",
        "rows=5\n",
        "for i in range(1, rows+1):\n",
        "  print(\"*\" * i)"
      ]
    },
    {
      "cell_type": "code",
      "execution_count": null,
      "metadata": {
        "colab": {
          "base_uri": "https://localhost:8080/"
        },
        "id": "4zdtyghsA759",
        "outputId": "e4ab7b33-12b1-4419-89bd-33ae1efc7305"
      },
      "outputs": [
        {
          "name": "stdout",
          "output_type": "stream",
          "text": [
            "*****\n",
            "****\n",
            "***\n",
            "**\n",
            "*\n"
          ]
        }
      ],
      "source": [
        "#iç içe döngü ile\n",
        "rows = 5\n",
        "for i in range(rows, 0, -1):\n",
        "  for j in range(0, i):\n",
        "    print(\"*\", end=\"\")\n",
        "  print()"
      ]
    },
    {
      "cell_type": "code",
      "execution_count": null,
      "metadata": {
        "colab": {
          "base_uri": "https://localhost:8080/"
        },
        "id": "oQn8rZLyAsib",
        "outputId": "199e4874-11be-4535-ce3d-bca40a4fe043"
      },
      "outputs": [
        {
          "name": "stdout",
          "output_type": "stream",
          "text": [
            "*****\n",
            "****\n",
            "***\n",
            "**\n",
            "*\n"
          ]
        }
      ],
      "source": [
        "#tek döngü ile\n",
        "rows = 5 \n",
        "for i in range(rows, 0, -1):\n",
        "  print(\"*\" * i)"
      ]
    },
    {
      "cell_type": "code",
      "execution_count": null,
      "metadata": {
        "colab": {
          "base_uri": "https://localhost:8080/"
        },
        "id": "IelbqMwIBzcn",
        "outputId": "984c72e8-5e07-4fb9-bdf8-2ae2a9a8b0e1"
      },
      "outputs": [
        {
          "name": "stdout",
          "output_type": "stream",
          "text": [
            "     *\n",
            "    **\n",
            "   ***\n",
            "  ****\n",
            " *****\n"
          ]
        }
      ],
      "source": [
        "#iç içe döngü ile\n",
        "rows = 5\n",
        "for i in range(0, rows):\n",
        "  for j in range(0, i+1):\n",
        "    if j == 0:\n",
        "      print(\" \" * (rows - i) + \"*\", end=\"\")\n",
        "    else: print(\"*\", end= \"\")\n",
        "  print()"
      ]
    },
    {
      "cell_type": "code",
      "execution_count": null,
      "metadata": {
        "colab": {
          "base_uri": "https://localhost:8080/"
        },
        "id": "Rkm-HLXYCRts",
        "outputId": "3fa7180f-d96a-49a1-8636-a089338ba034"
      },
      "outputs": [
        {
          "name": "stdout",
          "output_type": "stream",
          "text": [
            "    *\n",
            "   **\n",
            "  ***\n",
            " ****\n",
            "*****\n"
          ]
        }
      ],
      "source": [
        "#tek döngü ile\n",
        "for i in range(1, rows + 1):\n",
        "  print(\" \" * (rows - i) + \"*\" * i)"
      ]
    },
    {
      "cell_type": "code",
      "execution_count": null,
      "metadata": {
        "colab": {
          "base_uri": "https://localhost:8080/"
        },
        "id": "I3m2q0DqDNul",
        "outputId": "d2523267-3840-4e51-915f-15fbdff5a15a"
      },
      "outputs": [
        {
          "name": "stdout",
          "output_type": "stream",
          "text": [
            "*****\n",
            " ****\n",
            "  ***\n",
            "   **\n",
            "    *\n"
          ]
        }
      ],
      "source": [
        "#iç içe döngü ile\n",
        "rows = 5\n",
        "for i in range(rows, 0, -1): #dikey\n",
        "  for j in range(0, i): #yatay\n",
        "    if j == 0:\n",
        "      print(\" \" * (rows - i) + \"*\", end=\"\")\n",
        "    else: print(\"*\", end=\"\")\n",
        "  print()\n"
      ]
    },
    {
      "cell_type": "code",
      "execution_count": null,
      "metadata": {
        "colab": {
          "base_uri": "https://localhost:8080/"
        },
        "id": "UWgWlisHFd7W",
        "outputId": "37acc950-c03d-4e42-d03a-06ac343aad11"
      },
      "outputs": [
        {
          "name": "stdout",
          "output_type": "stream",
          "text": [
            "*****\n",
            " ****\n",
            "  ***\n",
            "   **\n",
            "    *\n"
          ]
        }
      ],
      "source": [
        "#tek döngü ile\n",
        "rows = 5\n",
        "for i in range(rows, 0, -1):\n",
        "  print(\" \" * (rows - i) + \"*\" * i)"
      ]
    },
    {
      "cell_type": "code",
      "execution_count": null,
      "metadata": {
        "colab": {
          "base_uri": "https://localhost:8080/"
        },
        "id": "4L0LiJDERe12",
        "outputId": "05401b54-40eb-4445-aa42-ad30d9300ba5"
      },
      "outputs": [
        {
          "name": "stdout",
          "output_type": "stream",
          "text": [
            "     **\n",
            "    ****\n",
            "   ******\n",
            "  ********\n",
            " **********\n"
          ]
        }
      ],
      "source": [
        "#iç içe döngü ile\n",
        "rows = 5\n",
        "for i in range(0, rows): \n",
        "  for j in range(0, i+1):\n",
        "    if j == 0:\n",
        "      print(\" \" * (rows - i) + \"*\" * 2, end=\"\")\n",
        "    else: print(\"*\" * 2, end= \"\")\n",
        "  print()"
      ]
    },
    {
      "cell_type": "code",
      "execution_count": null,
      "metadata": {
        "colab": {
          "base_uri": "https://localhost:8080/"
        },
        "id": "2jSykDZmRM2E",
        "outputId": "e494cb4a-0280-4789-e1c3-24e5482ecb8c"
      },
      "outputs": [
        {
          "name": "stdout",
          "output_type": "stream",
          "text": [
            "    **\n",
            "   ****\n",
            "  ******\n",
            " ********\n",
            "**********\n"
          ]
        }
      ],
      "source": [
        "#tek döngü ile\n",
        "rows = 5\n",
        "for i in range(1, rows + 1):\n",
        "  print(\" \" * (rows - i) + \"*\" * i * 2)"
      ]
    }
  ],
  "metadata": {
    "colab": {
      "name": "2. Hafta.ipynb",
      "provenance": []
    },
    "kernelspec": {
      "display_name": "Python 3",
      "name": "python3"
    },
    "language_info": {
      "name": "python"
    }
  },
  "nbformat": 4,
  "nbformat_minor": 0
}
